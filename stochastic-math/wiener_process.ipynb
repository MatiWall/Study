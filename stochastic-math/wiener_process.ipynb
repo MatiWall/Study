{
 "cells": [
  {
   "cell_type": "markdown",
   "id": "d3779724a317b600",
   "metadata": {
    "collapsed": false,
    "jupyter": {
     "outputs_hidden": false
    }
   },
   "source": [
    "# Wiener Processes\n"
   ]
  },
  {
   "cell_type": "code",
   "execution_count": 1,
   "id": "20b9f6fa7fe25f00",
   "metadata": {
    "ExecuteTime": {
     "end_time": "2024-08-04T19:23:55.330545Z",
     "start_time": "2024-08-04T19:23:53.917768Z"
    },
    "collapsed": false,
    "jupyter": {
     "outputs_hidden": false
    }
   },
   "outputs": [],
   "source": [
    "%matplotlib notebook\n",
    "import numpy as np\n",
    "import matplotlib.pyplot as plt\n",
    "import plotly.graph_objects as go\n",
    "from plotly.subplots import make_subplots\n",
    "import ipywidgets as ipw\n",
    "from ipywidgets import interact\n",
    "from IPython.display import display"
   ]
  },
  {
   "cell_type": "markdown",
   "id": "76e3aa0e5e2e7dcb",
   "metadata": {
    "collapsed": false,
    "jupyter": {
     "outputs_hidden": false
    }
   },
   "source": [
    "## Definitions\n",
    "A wiener process is characterised by following\n",
    "1. $W_0=0$ almost surely.\n",
    "2. $W$ has independent increments for all $t > 0$.\n",
    "3. $W$ has gaussian increments i.e. $W_{t+u}-W_t$ is normally distributed with mean 0 and variance $u$\n",
    "4. $W$ has almost surely continous paths. All most surely here means with probability one though allow for events with zero probability."
   ]
  },
  {
   "cell_type": "markdown",
   "id": "2b37bc8cd6323352",
   "metadata": {
    "collapsed": false,
    "jupyter": {
     "outputs_hidden": false
    }
   },
   "source": [
    "## Sampling of Normally Distributed Numbers"
   ]
  },
  {
   "cell_type": "code",
   "execution_count": 2,
   "id": "initial_id",
   "metadata": {
    "ExecuteTime": {
     "start_time": "2024-08-04T19:23:55.331611Z"
    },
    "is_executing": true
   },
   "outputs": [
    {
     "data": {
      "application/vnd.jupyter.widget-view+json": {
       "model_id": "296f8b9e5eab410b9ac26ea9540b7ef7",
       "version_major": 2,
       "version_minor": 0
      },
      "text/plain": [
       "interactive(children=(IntSlider(value=100, description='n', max=10000, min=10, step=100), FloatSlider(value=0.…"
      ]
     },
     "metadata": {},
     "output_type": "display_data"
    },
    {
     "data": {
      "application/vnd.jupyter.widget-view+json": {
       "model_id": "119b9e81492c4257b5ef0afe6d21bbac",
       "version_major": 2,
       "version_minor": 0
      },
      "text/plain": [
       "FigureWidget({\n",
       "    'data': [{'nbinsx': 30,\n",
       "              'type': 'histogram',\n",
       "              'uid': '32a4fb92-5636-4f6f-bedf-2138dcaef649',\n",
       "              'x': array([ 0.63480667, -0.9564181 ,  0.91498892,  1.65335828, -0.91841716,\n",
       "                          -0.3361357 ,  0.46853272, -0.33393461,  0.79507516, -0.55774689,\n",
       "                          -1.46433481, -0.08746381,  0.70299572, -2.19135285,  0.15523525,\n",
       "                          -0.26385513,  0.11461355,  0.37344402, -2.0972577 ,  1.92893288,\n",
       "                          -0.9893128 , -0.72253021, -0.63196615, -0.08746342,  0.35261848,\n",
       "                           0.95248484, -0.40992745, -0.64375567,  0.08945085,  0.05778253,\n",
       "                           0.39239651,  1.60230156,  0.44458705,  0.10640403,  0.97942716,\n",
       "                          -0.48960154, -0.65584277,  0.65615549, -0.15679651, -0.38945128,\n",
       "                           0.53563819,  1.65993696,  0.93325636,  0.23145536,  1.15664619,\n",
       "                           0.40795268, -1.16472123,  0.83595644,  0.62903518,  0.85732587,\n",
       "                           0.63039336,  0.11206348, -1.2264384 ,  0.32217997, -2.2999642 ,\n",
       "                          -0.45660134, -0.43738304, -0.23019283,  1.16684593,  0.99809219,\n",
       "                          -1.32546581,  0.48167289, -0.04557793, -0.95856768,  0.19059322,\n",
       "                           1.72756514,  1.11959229,  0.26619   ,  0.15901015,  0.73304444,\n",
       "                          -1.04789625, -0.92985544, -0.8046238 ,  0.36031435, -0.21947383,\n",
       "                           1.31777491, -1.67762089,  0.7846383 , -0.09671718, -0.36736909,\n",
       "                          -0.29383874,  0.98975137,  0.44421232, -0.25291468, -0.30752577,\n",
       "                           0.69395178,  1.35153528,  0.14991409,  1.85287324, -0.10545815,\n",
       "                          -0.04610622, -0.78850538, -0.11557983, -0.20334609,  0.59062555,\n",
       "                          -0.17167507, -0.39036521,  0.62222325, -1.42208594,  0.38904605])}],\n",
       "    'layout': {'template': '...', 'xaxis': {'range': [-10, 10]}}\n",
       "})"
      ]
     },
     "execution_count": 2,
     "metadata": {},
     "output_type": "execute_result"
    }
   ],
   "source": [
    "import plotly.graph_objects as go\n",
    "import numpy as np\n",
    "import ipywidgets as widgets\n",
    "\n",
    "\n",
    "# Function to generate normally distributed sequence\n",
    "def normally_distributed_sequence(n, mu, sigma):\n",
    "    return np.random.normal(loc=mu, scale=sigma, size=n)\n",
    "\n",
    "\n",
    "# Initial plot setup\n",
    "fig = go.FigureWidget(\n",
    "    data=[go.Histogram(x=normally_distributed_sequence(100, 0, 1), nbinsx=30)],\n",
    "    layout=go.Layout(xaxis=dict(range=[-10, 10]))\n",
    ")\n",
    "\n",
    "\n",
    "# Create the interactive widget\n",
    "@widgets.interact(n=(10, 10000, 100), mu=(-10, 10, 0.1), sigma=(0.001, 10, 0.1))\n",
    "def update(n=100, mu=0, sigma=1):\n",
    "    with fig.batch_update():\n",
    "        fig.data[0].x = normally_distributed_sequence(n, mu, sigma)\n",
    "        fig.layout.xaxis.range = [-10, 10]\n",
    "\n",
    "\n",
    "# Display the widget\n",
    "fig\n"
   ]
  },
  {
   "cell_type": "markdown",
   "id": "57932599f40fc2e9",
   "metadata": {
    "collapsed": false,
    "jupyter": {
     "outputs_hidden": false
    }
   },
   "source": [
    "## Wiener Process Sampling\n",
    "A wiener process is an ordered set of normally distributed numbers where $W_t$ has mean og $W_{t-1}$. This can be represented as a cumulative sum of normally distributed numbers "
   ]
  },
  {
   "cell_type": "code",
   "execution_count": 18,
   "id": "d955ab3c27424fc2",
   "metadata": {
    "ExecuteTime": {
     "end_time": "2024-08-04T19:23:56.518114Z",
     "start_time": "2024-08-04T19:23:55.450861Z"
    },
    "collapsed": false,
    "jupyter": {
     "outputs_hidden": false
    }
   },
   "outputs": [
    {
     "data": {
      "application/vnd.jupyter.widget-view+json": {
       "model_id": "093acf082c6b4830b7f62c46f1c79a75",
       "version_major": 2,
       "version_minor": 0
      },
      "text/plain": [
       "interactive(children=(IntSlider(value=10, description='num_steps', max=1000, min=10, step=20), IntSlider(value…"
      ]
     },
     "metadata": {},
     "output_type": "display_data"
    },
    {
     "data": {
      "application/vnd.jupyter.widget-view+json": {
       "model_id": "0a79ea3e25fe44da88895ecb13c2b022",
       "version_major": 2,
       "version_minor": 0
      },
      "text/plain": [
       "FigureWidget({\n",
       "    'data': [{'mode': 'lines',\n",
       "              'showlegend': False,\n",
       "              'type': 'scatter',\n",
       "              'uid': '8916e127-418c-48e5-8c5b-9211f3390c09',\n",
       "              'x': array([ 0.        ,  1.11111111,  2.22222222,  3.33333333,  4.44444444,\n",
       "                           5.55555556,  6.66666667,  7.77777778,  8.88888889, 10.        ]),\n",
       "              'xaxis': 'x',\n",
       "              'y': array([ 1.76405235,  1.90809592, -0.6448939 , -0.48994647, -1.53849944,\n",
       "                          -2.433966  , -3.10642645, -2.37733588, -3.54248573, -3.94566267]),\n",
       "              'yaxis': 'y'},\n",
       "             {'mode': 'lines',\n",
       "              'showlegend': False,\n",
       "              'type': 'scatter',\n",
       "              'uid': 'c680012c-c9a1-4af3-b72f-d7e321569d7f',\n",
       "              'x': array([ 0.        ,  1.11111111,  2.22222222,  3.33333333,  4.44444444,\n",
       "                           5.55555556,  6.66666667,  7.77777778,  8.88888889, 10.        ]),\n",
       "              'xaxis': 'x',\n",
       "              'y': array([0.40015721, 1.85443072, 2.50804931, 2.88621183, 1.46619389, 1.85309639,\n",
       "                          1.49354323, 1.62252614, 2.52335263, 3.7457977 ]),\n",
       "              'yaxis': 'y'},\n",
       "             {'mode': 'lines',\n",
       "              'showlegend': False,\n",
       "              'type': 'scatter',\n",
       "              'uid': '7ba37852-510c-4c16-b1ef-b7b66ce36344',\n",
       "              'x': array([ 0.        ,  1.11111111,  2.22222222,  3.33333333,  4.44444444,\n",
       "                           5.55555556,  6.66666667,  7.77777778,  8.88888889, 10.        ]),\n",
       "              'xaxis': 'x',\n",
       "              'y': array([ 0.97873798,  1.73977571,  2.60421191,  1.71642616,  0.01015597,\n",
       "                          -0.50064917, -1.31379545, -0.17439477,  0.29126767,  0.49954265]),\n",
       "              'yaxis': 'y'},\n",
       "             {'mode': 'lines',\n",
       "              'showlegend': False,\n",
       "              'type': 'scatter',\n",
       "              'uid': 'a830fb1c-1d02-4a63-967b-85aee8a4ea05',\n",
       "              'x': array([ 0.        ,  1.11111111,  2.22222222,  3.33333333,  4.44444444,\n",
       "                           5.55555556,  6.66666667,  7.77777778,  8.88888889, 10.        ]),\n",
       "              'xaxis': 'x',\n",
       "              'y': array([ 2.2408932 ,  2.36256822,  1.6204032 , -0.36039327,  1.59038212,\n",
       "                           0.40974994, -1.31653266, -2.55135848, -4.08760217, -3.11096313]),\n",
       "              'yaxis': 'y'},\n",
       "             {'mode': 'lines',\n",
       "              'showlegend': False,\n",
       "              'type': 'scatter',\n",
       "              'uid': '1be5bd39-caee-41d4-aae2-9f1b0a9fe1b1',\n",
       "              'x': array([ 0.        ,  1.11111111,  2.22222222,  3.33333333,  4.44444444,\n",
       "                           5.55555556,  6.66666667,  7.77777778,  8.88888889, 10.        ]),\n",
       "              'xaxis': 'x',\n",
       "              'y': array([1.86755799, 2.31142122, 4.58117585, 4.2332637 , 3.72361152, 3.69542929,\n",
       "                          3.87285543, 4.27519707, 5.76344926, 6.11981566]),\n",
       "              'yaxis': 'y'},\n",
       "             {'mode': 'lines',\n",
       "              'showlegend': False,\n",
       "              'type': 'scatter',\n",
       "              'uid': '1cb94cf2-6ebb-4043-b097-bce53a2ee7d8',\n",
       "              'x': array([ 0.        ,  1.11111111,  2.22222222,  3.33333333,  4.44444444,\n",
       "                           5.55555556,  6.66666667,  7.77777778,  8.88888889, 10.        ]),\n",
       "              'xaxis': 'x',\n",
       "              'y': array([-0.97727788, -0.64360355, -2.09796923, -1.94162026, -2.37969456,\n",
       "                          -1.95136269, -2.35314363, -3.03795372, -1.14206454, -0.43549137]),\n",
       "              'yaxis': 'y'},\n",
       "             {'mode': 'lines',\n",
       "              'showlegend': False,\n",
       "              'type': 'scatter',\n",
       "              'uid': '0aad2ffc-134a-4c8e-b416-8cc3781f8056',\n",
       "              'x': array([ 0.        ,  1.11111111,  2.22222222,  3.33333333,  4.44444444,\n",
       "                           5.55555556,  6.66666667,  7.77777778,  8.88888889, 10.        ]),\n",
       "              'xaxis': 'x',\n",
       "              'y': array([0.95008842, 2.44416749, 2.48992601, 3.72021669, 2.46742133, 2.53393855,\n",
       "                          0.9037402 , 0.03294305, 1.21172263, 1.22222265]),\n",
       "              'yaxis': 'y'},\n",
       "             {'mode': 'lines',\n",
       "              'showlegend': False,\n",
       "              'type': 'scatter',\n",
       "              'uid': '9f7562f7-8e1f-421c-8637-3e040c8b92a7',\n",
       "              'x': array([ 0.        ,  1.11111111,  2.22222222,  3.33333333,  4.44444444,\n",
       "                           5.55555556,  6.66666667,  7.77777778,  8.88888889, 10.        ]),\n",
       "              'xaxis': 'x',\n",
       "              'y': array([-0.15135721, -0.35651547, -0.54369932,  0.65868053,  1.43617088,\n",
       "                           1.73864278,  2.20142504,  1.62257537,  1.44265054,  3.22852103]),\n",
       "              'yaxis': 'y'},\n",
       "             {'mode': 'lines',\n",
       "              'showlegend': False,\n",
       "              'type': 'scatter',\n",
       "              'uid': 'ffaada3a-bdc2-4e36-9a96-765938ce706c',\n",
       "              'x': array([ 0.        ,  1.11111111,  2.22222222,  3.33333333,  4.44444444,\n",
       "                           5.55555556,  6.66666667,  7.77777778,  8.88888889, 10.        ]),\n",
       "              'xaxis': 'x',\n",
       "              'y': array([-0.10321885,  0.20984885,  1.74262806,  1.35530125, -0.2585966 ,\n",
       "                          -0.89291869, -1.80021706, -2.11176959, -3.18252221, -3.05561012]),\n",
       "              'yaxis': 'y'},\n",
       "             {'mode': 'lines',\n",
       "              'showlegend': False,\n",
       "              'type': 'scatter',\n",
       "              'uid': 'b5b0ba6e-bc73-478a-bd9d-b46dfbc82666',\n",
       "              'x': array([ 0.        ,  1.11111111,  2.22222222,  3.33333333,  4.44444444,\n",
       "                           5.55555556,  6.66666667,  7.77777778,  8.88888889, 10.        ]),\n",
       "              'xaxis': 'x',\n",
       "              'y': array([ 0.4105985 , -0.44349724,  1.02586153,  0.72355878,  0.5108185 ,\n",
       "                           0.14807734,  0.20002273,  0.25618807,  1.3106398 ,  1.71262916]),\n",
       "              'yaxis': 'y'},\n",
       "             {'mode': 'lines',\n",
       "              'name': 'Simulated',\n",
       "              'type': 'scatter',\n",
       "              'uid': '6998fbeb-b754-42ba-a6fe-25993d0cb765',\n",
       "              'x': array([ 0.        ,  1.11111111,  2.22222222,  3.33333333,  4.44444444,\n",
       "                           5.55555556,  6.66666667,  7.77777778,  8.88888889, 10.        ]),\n",
       "              'xaxis': 'x2',\n",
       "              'y': array([0.9352422 , 1.48212942, 3.44359927, 3.43416825, 3.01136877, 3.53876346,\n",
       "                          4.46714954, 4.88926607, 8.5592615 , 9.77787146]),\n",
       "              'yaxis': 'y2'},\n",
       "             {'mode': 'lines',\n",
       "              'name': 'Theoretical',\n",
       "              'type': 'scatter',\n",
       "              'uid': 'f52f7e05-3490-486c-a661-e5aea04684c5',\n",
       "              'x': array([ 0.        ,  1.11111111,  2.22222222,  3.33333333,  4.44444444,\n",
       "                           5.55555556,  6.66666667,  7.77777778,  8.88888889, 10.        ]),\n",
       "              'xaxis': 'x2',\n",
       "              'y': array([ 0.        ,  1.11111111,  2.22222222,  3.33333333,  4.44444444,\n",
       "                           5.55555556,  6.66666667,  7.77777778,  8.88888889, 10.        ]),\n",
       "              'yaxis': 'y2'}],\n",
       "    'layout': {'height': 600,\n",
       "               'template': '...',\n",
       "               'title': {'text': 'Wiener Process #p=10, #s10'},\n",
       "               'width': 800,\n",
       "               'xaxis': {'anchor': 'y', 'domain': [0.0, 1.0]},\n",
       "               'xaxis2': {'anchor': 'y2', 'domain': [0.0, 1.0]},\n",
       "               'yaxis': {'anchor': 'x', 'domain': [0.575, 1.0]},\n",
       "               'yaxis2': {'anchor': 'x2', 'domain': [0.0, 0.425]}}\n",
       "})"
      ]
     },
     "execution_count": 18,
     "metadata": {},
     "output_type": "execute_result"
    }
   ],
   "source": [
    "np.random.seed(0)\n",
    "\n",
    "# Initial empty figure\n",
    "_fig = make_subplots(rows=2, cols=1)\n",
    "fig = go.FigureWidget(_fig)\n",
    "\n",
    "\n",
    "def simulate_and_plot(num_steps=10, num_paths=10):\n",
    "    num_steps = int(num_steps)\n",
    "    num_paths = int(num_paths)\n",
    "\n",
    "    # The total time\n",
    "    T = 10.0\n",
    "    # The time step size\n",
    "    dt = T / num_steps\n",
    "\n",
    "    # An array of time values\n",
    "    t = np.linspace(0.0, T, num_steps)\n",
    "    \n",
    "    Ws = np.random.normal(loc=0, scale=dt**0.5, size=(num_steps, num_paths))\n",
    "    \n",
    "    paths = Ws.cumsum(axis=0)\n",
    "\n",
    "    var = paths.var(axis=1)\n",
    "    # Update figure with new data\n",
    "    with fig.batch_update():\n",
    "        fig.data = []\n",
    "        for i in range(num_paths):\n",
    "            # The Wiener process for each path\n",
    "            W = paths[:, i]\n",
    "            fig.add_trace(go.Scatter(x=t, y=W, mode='lines', showlegend=False), row=1, col=1)\n",
    "\n",
    "        fig.add_trace(go.Scatter(x=t, y=var, mode='lines', name='Simulated'), row=2, col=1)\n",
    "        fig.add_trace(go.Scatter(x=t, y=t, mode='lines', name='Theoretical'), row=2, col=1)\n",
    "\n",
    "        fig.update_layout(\n",
    "            height=600, \n",
    "            width=800, \n",
    "            title_text=f'Wiener Process #p={num_paths}, #s{num_steps}'\n",
    "        )\n",
    "\n",
    "\n",
    "# Setup interactive widget\n",
    "interact(simulate_and_plot, num_steps=(10, 1000, 20), num_paths=(1, 100, 5))\n",
    "\n",
    "# Display the widget\n",
    "fig"
   ]
  }
 ],
 "metadata": {
  "kernelspec": {
   "display_name": "Python 3 (ipykernel)",
   "language": "python",
   "name": "python3"
  },
  "language_info": {
   "codemirror_mode": {
    "name": "ipython",
    "version": 3
   },
   "file_extension": ".py",
   "mimetype": "text/x-python",
   "name": "python",
   "nbconvert_exporter": "python",
   "pygments_lexer": "ipython3",
   "version": "3.12.3"
  }
 },
 "nbformat": 4,
 "nbformat_minor": 5
}
